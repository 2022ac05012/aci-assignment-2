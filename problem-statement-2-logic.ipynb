{
 "cells": [
  {
   "cell_type": "markdown",
   "id": "703fbdea",
   "metadata": {},
   "source": [
    "<h2>Problem-statement-2-Logic-decision-tree</h2>"
   ]
  },
  {
   "cell_type": "markdown",
   "id": "4634d90c",
   "metadata": {},
   "source": [
    "<h3>\tList only the BITS (Name) of active contributors in this assignment: ACI Assignment Group 185\n",
    "\n",
    "<br>1.\tAMRITESH KUMAR SINGH (2022AC05077@wilp.bits-pilani.ac.in)\n",
    "<br>2.\tRAHUL SINGH(2022AC05012@wilp.bits-pilani.ac.in)\n",
    "</h3>"
   ]
  },
  {
   "cell_type": "code",
   "execution_count": 1,
   "id": "88395513",
   "metadata": {},
   "outputs": [
    {
     "name": "stdout",
     "output_type": "stream",
     "text": [
      "Enter lake distance as integer, in(Km): 7\n",
      "Enter river distance as integer, in(Km): 6\n",
      "Enter rainfall intesity as integer, in(mm): 170\n",
      "Enter sandy_aquifier as boolean: True\n",
      "Enter beach distance as integer, in(Km): 25\n",
      "=========================Current date and time ============== 16/09/2023 17:22:17\n",
      "Predicted water resource: Lake\n"
     ]
    }
   ],
   "source": [
    "from datetime import datetime\n",
    "\n",
    "lake_distance=11\n",
    "river_distance=9\n",
    "railfall_intensity=140\n",
    "sandy_aquifier=True\n",
    "beach_distance=4\n",
    "\n",
    "lake_distance = input(\"Enter lake distance as integer, in(Km): \")\n",
    "lake_distance = int(lake_distance)\n",
    "\n",
    "river_distance = input(\"Enter river distance as integer, in(Km): \")\n",
    "river_distance = int(river_distance)\n",
    "\n",
    "railfall_intensity = input(\"Enter rainfall intesity as integer, in(mm): \")\n",
    "railfall_intensity = int(railfall_intensity)\n",
    "\n",
    "sandy_aquifier = input(\"Enter sandy_aquifier as boolean: \")\n",
    "sandy_aquifier = bool(sandy_aquifier)\n",
    "\n",
    "beach_distance = input(\"Enter beach distance as integer, in(Km): \")\n",
    "beach_distance = int(beach_distance)\n",
    "\n",
    "def decision_tree(lake_distance,river_distance,railfall_intensity,sandy_aquifier,beach_distance):\n",
    "    if (lake_distance < 10):\n",
    "        return \"Lake\"\n",
    "    if (river_distance < 8):\n",
    "        if (railfall_intensity >= 200):\n",
    "            return \"Rain\"\n",
    "        return \"River\"\n",
    "    if (railfall_intensity >= 150):\n",
    "        return \"Rain\"\n",
    "    if (sandy_aquifier == False):\n",
    "        if (lake_distance < 14):\n",
    "            return \"Lake\"\n",
    "        return \"Rain\"\n",
    "    if (beach_distance >=5 ):\n",
    "        return \"Ground water\"\n",
    "    if (river_distance < 20):\n",
    "        return \"River\"\n",
    "    return \"Rain\"\n",
    "result = decision_tree(lake_distance, river_distance, railfall_intensity,sandy_aquifier, beach_distance)\n",
    "# datetime object containing current date and time\n",
    "now = datetime.now()\n",
    " \n",
    "\n",
    "# dd/mm/YY H:M:S\n",
    "dt_string = now.strftime(\"%d/%m/%Y %H:%M:%S\")\n",
    "print(\"=========================Current date and time ==============\", dt_string)\n",
    "print(\"Predicted water resource:\", result)"
   ]
  },
  {
   "cell_type": "code",
   "execution_count": null,
   "id": "60318167",
   "metadata": {},
   "outputs": [],
   "source": []
  }
 ],
 "metadata": {
  "kernelspec": {
   "display_name": "Python 3 (ipykernel)",
   "language": "python",
   "name": "python3"
  },
  "language_info": {
   "codemirror_mode": {
    "name": "ipython",
    "version": 3
   },
   "file_extension": ".py",
   "mimetype": "text/x-python",
   "name": "python",
   "nbconvert_exporter": "python",
   "pygments_lexer": "ipython3",
   "version": "3.10.9"
  }
 },
 "nbformat": 4,
 "nbformat_minor": 5
}
